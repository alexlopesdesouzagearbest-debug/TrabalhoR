{
  "nbformat": 4,
  "nbformat_minor": 0,
  "metadata": {
    "colab": {
      "provenance": [],
      "include_colab_link": true
    },
    "kernelspec": {
      "name": "ir",
      "display_name": "R"
    },
    "language_info": {
      "name": "R"
    }
  },
  "cells": [
    {
      "cell_type": "markdown",
      "metadata": {
        "id": "view-in-github",
        "colab_type": "text"
      },
      "source": [
        "<a href=\"https://colab.research.google.com/github/alexlopesdesouzagearbest-debug/TrabalhoR/blob/main/Desafio_Pr%C3%A1tico_2_II.ipynb\" target=\"_parent\"><img src=\"https://colab.research.google.com/assets/colab-badge.svg\" alt=\"Open In Colab\"/></a>"
      ]
    },
    {
      "cell_type": "markdown",
      "source": [
        "# Desafio Prático 2\n",
        "\n",
        "Usando a linguagem R, a partir do seguinte dataset, apresente um gráfico que demonstre o desempenho dos times brasileiros nos jogos olímpicos (use a sua criatividade!):"
      ],
      "metadata": {
        "id": "Lweq60uymAQn"
      }
    },
    {
      "cell_type": "code",
      "source": [
        "library(readr)\n",
        "df <- read_csv('https://raw.githubusercontent.com/KeithGalli/Olympics-Dataset/refs/heads/master/results/results.csv', show_col_types = FALSE)\n",
        "\n",
        "# Filtrando somente os times brasileiros que ganharam medalha:\n",
        "df_br <- df[df$NOC == 'BRA' & !is.na(df$Medal),]\n",
        "\n",
        "# Extraindo o atributo Year a partir de Games\n",
        "df_br$Year <- as.integer(substr(df_br$Games, 1, 4))\n",
        "head(df_br)\n",
        "\n",
        "# Informe seu código aqui"
      ],
      "metadata": {
        "colab": {
          "base_uri": "https://localhost:8080/",
          "height": 408
        },
        "id": "QznllNEUMFIf",
        "outputId": "85fba9c0-3152-4faa-faf3-990ad40a4b45"
      },
      "execution_count": 11,
      "outputs": [
        {
          "output_type": "display_data",
          "data": {
            "text/html": [
              "<table class=\"dataframe\">\n",
              "<caption>A tibble: 6 × 12</caption>\n",
              "<thead>\n",
              "\t<tr><th scope=col>Games</th><th scope=col>Event</th><th scope=col>Team</th><th scope=col>Pos</th><th scope=col>Medal</th><th scope=col>As</th><th scope=col>athlete_id</th><th scope=col>NOC</th><th scope=col>Discipline</th><th scope=col>Nationality</th><th scope=col>Unnamed: 7</th><th scope=col>Year</th></tr>\n",
              "\t<tr><th scope=col>&lt;chr&gt;</th><th scope=col>&lt;chr&gt;</th><th scope=col>&lt;chr&gt;</th><th scope=col>&lt;chr&gt;</th><th scope=col>&lt;chr&gt;</th><th scope=col>&lt;chr&gt;</th><th scope=col>&lt;dbl&gt;</th><th scope=col>&lt;chr&gt;</th><th scope=col>&lt;chr&gt;</th><th scope=col>&lt;chr&gt;</th><th scope=col>&lt;lgl&gt;</th><th scope=col>&lt;int&gt;</th></tr>\n",
              "</thead>\n",
              "<tbody>\n",
              "\t<tr><td>1960 Summer Olympics</td><td>Basketball, Men (Olympic)  </td><td>Brazil</td><td>3.0</td><td>Bronze</td><td>Wlamir Marques</td><td>5090</td><td>BRA</td><td>Basketball (Basketball)</td><td>NA</td><td>NA</td><td>1960</td></tr>\n",
              "\t<tr><td>1964 Summer Olympics</td><td>Basketball, Men (Olympic)  </td><td>Brazil</td><td>3.0</td><td>Bronze</td><td>Wlamir Marques</td><td>5090</td><td>BRA</td><td>Basketball (Basketball)</td><td>NA</td><td>NA</td><td>1964</td></tr>\n",
              "\t<tr><td>1996 Summer Olympics</td><td>Basketball, Women (Olympic)</td><td>Brazil</td><td>2.0</td><td>Silver</td><td>Leila         </td><td>5205</td><td>BRA</td><td>Basketball (Basketball)</td><td>NA</td><td>NA</td><td>1996</td></tr>\n",
              "\t<tr><td>1996 Summer Olympics</td><td>Basketball, Women (Olympic)</td><td>Brazil</td><td>2.0</td><td>Silver</td><td>Marta Sobral  </td><td>5206</td><td>BRA</td><td>Basketball (Basketball)</td><td>NA</td><td>NA</td><td>1996</td></tr>\n",
              "\t<tr><td>2000 Summer Olympics</td><td>Basketball, Women (Olympic)</td><td>Brazil</td><td>3.0</td><td>Bronze</td><td>Marta Sobral  </td><td>5206</td><td>BRA</td><td>Basketball (Basketball)</td><td>NA</td><td>NA</td><td>2000</td></tr>\n",
              "\t<tr><td>1996 Summer Olympics</td><td>Basketball, Women (Olympic)</td><td>Brazil</td><td>2.0</td><td>Silver</td><td>Janeth        </td><td>5218</td><td>BRA</td><td>Basketball (Basketball)</td><td>NA</td><td>NA</td><td>1996</td></tr>\n",
              "</tbody>\n",
              "</table>\n"
            ],
            "text/markdown": "\nA tibble: 6 × 12\n\n| Games &lt;chr&gt; | Event &lt;chr&gt; | Team &lt;chr&gt; | Pos &lt;chr&gt; | Medal &lt;chr&gt; | As &lt;chr&gt; | athlete_id &lt;dbl&gt; | NOC &lt;chr&gt; | Discipline &lt;chr&gt; | Nationality &lt;chr&gt; | Unnamed: 7 &lt;lgl&gt; | Year &lt;int&gt; |\n|---|---|---|---|---|---|---|---|---|---|---|---|\n| 1960 Summer Olympics | Basketball, Men (Olympic)   | Brazil | 3.0 | Bronze | Wlamir Marques | 5090 | BRA | Basketball (Basketball) | NA | NA | 1960 |\n| 1964 Summer Olympics | Basketball, Men (Olympic)   | Brazil | 3.0 | Bronze | Wlamir Marques | 5090 | BRA | Basketball (Basketball) | NA | NA | 1964 |\n| 1996 Summer Olympics | Basketball, Women (Olympic) | Brazil | 2.0 | Silver | Leila          | 5205 | BRA | Basketball (Basketball) | NA | NA | 1996 |\n| 1996 Summer Olympics | Basketball, Women (Olympic) | Brazil | 2.0 | Silver | Marta Sobral   | 5206 | BRA | Basketball (Basketball) | NA | NA | 1996 |\n| 2000 Summer Olympics | Basketball, Women (Olympic) | Brazil | 3.0 | Bronze | Marta Sobral   | 5206 | BRA | Basketball (Basketball) | NA | NA | 2000 |\n| 1996 Summer Olympics | Basketball, Women (Olympic) | Brazil | 2.0 | Silver | Janeth         | 5218 | BRA | Basketball (Basketball) | NA | NA | 1996 |\n\n",
            "text/latex": "A tibble: 6 × 12\n\\begin{tabular}{llllllllllll}\n Games & Event & Team & Pos & Medal & As & athlete\\_id & NOC & Discipline & Nationality & Unnamed: 7 & Year\\\\\n <chr> & <chr> & <chr> & <chr> & <chr> & <chr> & <dbl> & <chr> & <chr> & <chr> & <lgl> & <int>\\\\\n\\hline\n\t 1960 Summer Olympics & Basketball, Men (Olympic)   & Brazil & 3.0 & Bronze & Wlamir Marques & 5090 & BRA & Basketball (Basketball) & NA & NA & 1960\\\\\n\t 1964 Summer Olympics & Basketball, Men (Olympic)   & Brazil & 3.0 & Bronze & Wlamir Marques & 5090 & BRA & Basketball (Basketball) & NA & NA & 1964\\\\\n\t 1996 Summer Olympics & Basketball, Women (Olympic) & Brazil & 2.0 & Silver & Leila          & 5205 & BRA & Basketball (Basketball) & NA & NA & 1996\\\\\n\t 1996 Summer Olympics & Basketball, Women (Olympic) & Brazil & 2.0 & Silver & Marta Sobral   & 5206 & BRA & Basketball (Basketball) & NA & NA & 1996\\\\\n\t 2000 Summer Olympics & Basketball, Women (Olympic) & Brazil & 3.0 & Bronze & Marta Sobral   & 5206 & BRA & Basketball (Basketball) & NA & NA & 2000\\\\\n\t 1996 Summer Olympics & Basketball, Women (Olympic) & Brazil & 2.0 & Silver & Janeth         & 5218 & BRA & Basketball (Basketball) & NA & NA & 1996\\\\\n\\end{tabular}\n",
            "text/plain": [
              "  Games                Event                       Team   Pos Medal \n",
              "1 1960 Summer Olympics Basketball, Men (Olympic)   Brazil 3.0 Bronze\n",
              "2 1964 Summer Olympics Basketball, Men (Olympic)   Brazil 3.0 Bronze\n",
              "3 1996 Summer Olympics Basketball, Women (Olympic) Brazil 2.0 Silver\n",
              "4 1996 Summer Olympics Basketball, Women (Olympic) Brazil 2.0 Silver\n",
              "5 2000 Summer Olympics Basketball, Women (Olympic) Brazil 3.0 Bronze\n",
              "6 1996 Summer Olympics Basketball, Women (Olympic) Brazil 2.0 Silver\n",
              "  As             athlete_id NOC Discipline              Nationality Unnamed: 7\n",
              "1 Wlamir Marques 5090       BRA Basketball (Basketball) NA          NA        \n",
              "2 Wlamir Marques 5090       BRA Basketball (Basketball) NA          NA        \n",
              "3 Leila          5205       BRA Basketball (Basketball) NA          NA        \n",
              "4 Marta Sobral   5206       BRA Basketball (Basketball) NA          NA        \n",
              "5 Marta Sobral   5206       BRA Basketball (Basketball) NA          NA        \n",
              "6 Janeth         5218       BRA Basketball (Basketball) NA          NA        \n",
              "  Year\n",
              "1 1960\n",
              "2 1964\n",
              "3 1996\n",
              "4 1996\n",
              "5 2000\n",
              "6 1996"
            ]
          },
          "metadata": {}
        }
      ]
    },
    {
      "cell_type": "markdown",
      "source": [
        "Dicas do que fazer:\n",
        "1. Gráfico de linha do desempenho de uma determinada equipe ao longo dos anos;\n",
        "1. Gráfico de barras das 10 equipes que mais ganharam medalhas;\n",
        "1. Gráfico de barras das equipes que mais participaram de olimpíadas;\n",
        "1. Gráfico de linhas dos esportes que mais trouxeram medalhas."
      ],
      "metadata": {
        "id": "LRUjLayMM1NF"
      }
    },
    {
      "cell_type": "markdown",
      "source": [
        "Total de medalhas do Brasil por edição"
      ],
      "metadata": {
        "id": "uu2YO0Gcrzmw"
      }
    },
    {
      "cell_type": "code",
      "source": [
        "library(dplyr)\n",
        "library(stringr)\n",
        "library(stringi)\n",
        "library(ggplot2)\n",
        "\n",
        "# --- helpers -------------------------------------------------------\n",
        "norm_txt <- function(x) {\n",
        "  x %>%\n",
        "    stringi::stri_trans_general(\"Latin-ASCII\") %>%   # remove acentos\n",
        "    str_replace_all(\"[^[:alnum:]\\\\s\\\\+]\", \" \") %>%  # tira pontuação\n",
        "    str_squish() %>% str_to_lower()\n",
        "}\n",
        "\n",
        "# Detecta colunas (use chaves para evitar erro do 'else')\n",
        "sport_col <- if (\"Discipline\" %in% names(df_br)) {\n",
        "  \"Discipline\"\n",
        "} else if (\"Sport\" %in% names(df_br)) {\n",
        "  \"Sport\"\n",
        "} else {\n",
        "  stop(\"Nem 'Discipline' nem 'Sport' existem no dataset.\")\n",
        "}\n",
        "\n",
        "athlete_col <- if (\"Athlete\" %in% names(df_br)) {\n",
        "  \"Athlete\"\n",
        "} else if (\"Name\" %in% names(df_br)) {\n",
        "  \"Name\"\n",
        "} else {\n",
        "  NULL\n",
        "}\n",
        "\n",
        "# Palavras-chave de esportes coletivos (PT/EN)\n",
        "team_sports_keywords <- c(\n",
        "  \"football\",\"soccer\",\"volleyball\",\"basketball\",\"handball\",\"hockey\",\n",
        "  \"water polo\",\"rugby\",\"rugby sevens\",\"baseball\",\"softball\",\n",
        "  \"ice hockey\",\"field hockey\",\n",
        "  \"futebol\",\"volei\",\"voleibol\",\"basquete\",\"handebol\",\"hoquei\",\"polo aquatico\"\n",
        ")\n",
        "\n",
        "# Padrões de evento de equipe (revezamentos, duplas etc.)\n",
        "team_event_patterns <- paste(\n",
        "  c(\"team\",\"relay\",\"synchronized\",\"synchro\",\"group\",\n",
        "    \"pairs?\",\"pair\",\"doubles?\",\"double\",\n",
        "    \"4x\",\"8\\\\+\",\"k-2\",\"k-4\",\"c-2\",\n",
        "    \"pursuit team\",\"team pursuit\",\"madison\",\"all[- ]around team\",\n",
        "    \"coxed eight\",\"eight(s)?\",\"quadruple sculls\",\"double sculls\",\n",
        "    \"coxless pair\",\"coxless four\",\"mixed team\",\"sabre team\",\"foil team\",\"epee team\"),\n",
        "  collapse = \"|\"\n",
        ")\n",
        "\n",
        "# --- classificar Equipe vs Individual ------------------------------\n",
        "df_tag <- df_br %>%\n",
        "  mutate(\n",
        "    sport_norm = norm_txt(.data[[sport_col]]),\n",
        "    event_norm = norm_txt(Event),\n",
        "    is_team = str_detect(event_norm, regex(team_event_patterns, ignore_case = TRUE)) |\n",
        "              str_detect(sport_norm, regex(paste(team_sports_keywords, collapse=\"|\"), ignore_case = TRUE))\n",
        "  )\n",
        "\n",
        "# --- contar medalhas por edição ------------------------------------\n",
        "# Equipe: 1 medalha por EVENTO\n",
        "med_team <- df_tag %>%\n",
        "  filter(is_team) %>%\n",
        "  distinct(Games, Year, Event) %>%\n",
        "  mutate(Contagem = 1L)\n",
        "\n",
        "# Individual: \"normal\" (por atleta se houver nome; senão por evento)\n",
        "med_indiv <- if (!is.null(athlete_col)) {\n",
        "  df_tag %>%\n",
        "    filter(!is_team) %>%\n",
        "    distinct(Games, Year, Event, .data[[athlete_col]]) %>%\n",
        "    mutate(Contagem = 1L)\n",
        "} else {\n",
        "  df_tag %>%\n",
        "    filter(!is_team) %>%\n",
        "    distinct(Games, Year, Event) %>%\n",
        "    mutate(Contagem = 1L)\n",
        "}\n",
        "\n",
        "# Série por edição (Year/Games)\n",
        "serie_br <- bind_rows(med_team, med_indiv) %>%\n",
        "  count(Year, Games, name = \"TotalMedalhas\") %>%\n",
        "  arrange(Year)\n",
        "\n",
        "print(serie_br, n = Inf)\n",
        "\n",
        "# --- gráfico opcional ----------------------------------------------\n",
        "ggplot(serie_br, aes(x = Year, y = TotalMedalhas)) +\n",
        "  geom_col() +\n",
        "  geom_text(aes(label = TotalMedalhas), vjust = -0.3, size = 4) +\n",
        "  labs(\n",
        "    title = \"Brasil — Número de medalhas por edição (equipes = 1 por evento)\",\n",
        "    x = \"Ano (Games)\", y = \"Total de medalhas\"\n",
        "  ) +\n",
        "  theme_minimal(base_size = 13)"
      ],
      "metadata": {
        "colab": {
          "base_uri": "https://localhost:8080/",
          "height": 871
        },
        "id": "mi5hXKhVhexi",
        "outputId": "f8e80e2e-b301-4f24-a96b-9b7353a008b3"
      },
      "execution_count": 12,
      "outputs": [
        {
          "output_type": "stream",
          "name": "stdout",
          "text": [
            "\u001b[90m# A tibble: 22 × 3\u001b[39m\n",
            "    Year Games                      TotalMedalhas\n",
            "   \u001b[3m\u001b[90m<int>\u001b[39m\u001b[23m \u001b[3m\u001b[90m<chr>\u001b[39m\u001b[23m                              \u001b[3m\u001b[90m<int>\u001b[39m\u001b[23m\n",
            "\u001b[90m 1\u001b[39m  \u001b[4m1\u001b[24m920 1920 Summer Olympics                   3\n",
            "\u001b[90m 2\u001b[39m  \u001b[4m1\u001b[24m948 1948 Summer Olympics                   1\n",
            "\u001b[90m 3\u001b[39m  \u001b[4m1\u001b[24m952 1952 Summer Olympics                   3\n",
            "\u001b[90m 4\u001b[39m  \u001b[4m1\u001b[24m956 1956 Summer Olympics                   1\n",
            "\u001b[90m 5\u001b[39m  \u001b[4m1\u001b[24m960 1960 Summer Olympics                   2\n",
            "\u001b[90m 6\u001b[39m  \u001b[4m1\u001b[24m964 1964 Summer Olympics                   1\n",
            "\u001b[90m 7\u001b[39m  \u001b[4m1\u001b[24m968 1968 Summer Olympics                   3\n",
            "\u001b[90m 8\u001b[39m  \u001b[4m1\u001b[24m972 1972 Summer Olympics                   2\n",
            "\u001b[90m 9\u001b[39m  \u001b[4m1\u001b[24m976 1976 Summer Olympics                   2\n",
            "\u001b[90m10\u001b[39m  \u001b[4m1\u001b[24m980 1980 Summer Olympics                   4\n",
            "\u001b[90m11\u001b[39m  \u001b[4m1\u001b[24m984 1984 Summer Olympics                   8\n",
            "\u001b[90m12\u001b[39m  \u001b[4m1\u001b[24m988 1988 Summer Olympics                   6\n",
            "\u001b[90m13\u001b[39m  \u001b[4m1\u001b[24m992 1992 Summer Olympics                   3\n",
            "\u001b[90m14\u001b[39m  \u001b[4m1\u001b[24m996 1996 Summer Olympics                  14\n",
            "\u001b[90m15\u001b[39m  \u001b[4m2\u001b[24m000 2000 Summer Olympics                  11\n",
            "\u001b[90m16\u001b[39m  \u001b[4m2\u001b[24m004 2004 Summer Olympics                  10\n",
            "\u001b[90m17\u001b[39m  \u001b[4m2\u001b[24m008 2008 Summer Olympics                  16\n",
            "\u001b[90m18\u001b[39m  \u001b[4m2\u001b[24m010 2010 Summer Youth Olympics             3\n",
            "\u001b[90m19\u001b[39m  \u001b[4m2\u001b[24m012 2012 Summer Olympics                  16\n",
            "\u001b[90m20\u001b[39m  \u001b[4m2\u001b[24m014 2014 Summer Youth Olympics             8\n",
            "\u001b[90m21\u001b[39m  \u001b[4m2\u001b[24m016 2016 Summer Olympics                  16\n",
            "\u001b[90m22\u001b[39m  \u001b[4m2\u001b[24m020 2020 Summer Olympics                  21\n"
          ]
        },
        {
          "output_type": "display_data",
          "data": {
            "text/plain": [
              "plot without title"
            ],
            "image/png": "[encoded data removed]"
          },
          "metadata": {
            "image/png": {
              "width": 420,
              "height": 420
            }
          }
        }
      ]
    },
    {
      "cell_type": "code",
      "source": [
        "# ==== BLOCO 1: helpers + detecção de colunas + flag is_team ====\n",
        "library(dplyr)\n",
        "library(stringr)\n",
        "\n",
        "# normalização simples (sem depender de stringi)\n",
        "norm_txt <- function(x) {\n",
        "  x <- tolower(x)\n",
        "  x <- iconv(x, to = \"ASCII//TRANSLIT\")        # remove acentos\n",
        "  x <- gsub(\"[^[:alnum:]\\\\s\\\\+]\", \" \", x)      # remove pontuação\n",
        "  x <- gsub(\"\\\\s+\", \" \", x)                    # espaços múltiplos\n",
        "  trimws(x)\n",
        "}\n",
        "\n",
        "# escolhe a coluna de esporte\n",
        "sport_col <- if (\"Discipline\" %in% names(df_br)) {\n",
        "  \"Discipline\"\n",
        "} else if (\"Sport\" %in% names(df_br)) {\n",
        "  \"Sport\"\n",
        "} else {\n",
        "  stop(\"Nem 'Discipline' nem 'Sport' existem no dataset.\")\n",
        "}\n",
        "\n",
        "# escolhe a coluna de atleta (se existir)\n",
        "athlete_col <- if (\"Athlete\" %in% names(df_br)) {\n",
        "  \"Athlete\"\n",
        "} else if (\"Name\" %in% names(df_br)) {\n",
        "  \"Name\"\n",
        "} else {\n",
        "  NULL\n",
        "}\n",
        "\n",
        "# palavras-chave de esportes coletivos (PT/EN)\n",
        "team_sports_keywords <- c(\n",
        "  \"football\",\"soccer\",\"volleyball\",\"basketball\",\"handball\",\"hockey\",\n",
        "  \"water polo\",\"rugby\",\"rugby sevens\",\"baseball\",\"softball\",\n",
        "  \"ice hockey\",\"field hockey\",\n",
        "  \"futebol\",\"volei\",\"voleibol\",\"basquete\",\"handebol\",\"hoquei\",\"polo aquatico\"\n",
        ")\n",
        "\n",
        "# padrões que caracterizam evento de equipe (revezamentos, duplas, etc.)\n",
        "team_event_patterns <- paste(\n",
        "  c(\"team\",\"relay\",\"synchronized\",\"synchro\",\"group\",\n",
        "    \"pairs?\",\"pair\",\"doubles?\",\"double\",\n",
        "    \"4x\",\"8\\\\+\",\"k-2\",\"k-4\",\"c-2\",\n",
        "    \"pursuit team\",\"team pursuit\",\"madison\",\"all[- ]around team\",\n",
        "    \"coxed eight\",\"eight(s)?\",\"quadruple sculls\",\"double sculls\",\n",
        "    \"coxless pair\",\"coxless four\",\"mixed team\",\"sabre team\",\"foil team\",\"epee team\"),\n",
        "  collapse = \"|\"\n",
        ")\n",
        "\n",
        "# cria flag is_team (olha o nome do EVENTO e o nome do ESPORTE)\n",
        "df_tag <- df_br %>%\n",
        "  mutate(\n",
        "    sport_norm = norm_txt(.data[[sport_col]]),\n",
        "    event_norm = norm_txt(Event),\n",
        "    is_team = str_detect(event_norm, regex(team_event_patterns, ignore_case = TRUE)) |\n",
        "              str_detect(sport_norm, regex(paste(team_sports_keywords, collapse=\"|\"), ignore_case = TRUE))\n",
        "  )\n",
        "\n",
        "# checagem rápida (opcional): ver como \"football/soccer/futebol\" está classificado\n",
        "df_tag %>%\n",
        "  filter(str_detect(sport_norm, \"football|soccer|futebol\")) %>%\n",
        "  distinct(Games, Year, Event, .data[[sport_col]], is_team) %>%\n",
        "  arrange(Games) %>%\n",
        "  print(n = 20)"
      ],
      "metadata": {
        "colab": {
          "base_uri": "https://localhost:8080/"
        },
        "id": "c8w-O7YfjlDn",
        "outputId": "78ddadae-c717-43f5-952e-18d05b6777e6"
      },
      "execution_count": 13,
      "outputs": [
        {
          "output_type": "stream",
          "name": "stdout",
          "text": [
            "\u001b[90m# A tibble: 9 × 5\u001b[39m\n",
            "  Games                 Year Event                     Discipline        is_team\n",
            "  \u001b[3m\u001b[90m<chr>\u001b[39m\u001b[23m                \u001b[3m\u001b[90m<int>\u001b[39m\u001b[23m \u001b[3m\u001b[90m<chr>\u001b[39m\u001b[23m                     \u001b[3m\u001b[90m<chr>\u001b[39m\u001b[23m             \u001b[3m\u001b[90m<lgl>\u001b[39m\u001b[23m  \n",
            "\u001b[90m1\u001b[39m 1984 Summer Olympics  \u001b[4m1\u001b[24m984 Football, Men (Olympic)   Football (Footba… TRUE   \n",
            "\u001b[90m2\u001b[39m 1988 Summer Olympics  \u001b[4m1\u001b[24m988 Football, Men (Olympic)   Football (Footba… TRUE   \n",
            "\u001b[90m3\u001b[39m 1996 Summer Olympics  \u001b[4m1\u001b[24m996 Football, Men (Olympic)   Football (Footba… TRUE   \n",
            "\u001b[90m4\u001b[39m 2004 Summer Olympics  \u001b[4m2\u001b[24m004 Football, Women (Olympic) Football (Footba… TRUE   \n",
            "\u001b[90m5\u001b[39m 2008 Summer Olympics  \u001b[4m2\u001b[24m008 Football, Women (Olympic) Football (Footba… TRUE   \n",
            "\u001b[90m6\u001b[39m 2008 Summer Olympics  \u001b[4m2\u001b[24m008 Football, Men (Olympic)   Football (Footba… TRUE   \n",
            "\u001b[90m7\u001b[39m 2012 Summer Olympics  \u001b[4m2\u001b[24m012 Football, Men (Olympic)   Football (Footba… TRUE   \n",
            "\u001b[90m8\u001b[39m 2016 Summer Olympics  \u001b[4m2\u001b[24m016 Football, Men (Olympic)   Football (Footba… TRUE   \n",
            "\u001b[90m9\u001b[39m 2020 Summer Olympics  \u001b[4m2\u001b[24m020 Football, Men (Olympic)   Football (Footba… TRUE   \n"
          ]
        }
      ]
    },
    {
      "cell_type": "code",
      "source": [
        "# ==== BLOCO 2: série de medalhas por edição (Games) =================\n",
        "library(dplyr)\n",
        "\n",
        "# Equipe: 1 medalha por EVENTO\n",
        "med_team <- df_tag %>%\n",
        "  filter(is_team) %>%\n",
        "  distinct(Games, Year, Event) %>%        # 1 por evento/time\n",
        "  mutate(Tipo = \"Equipe\", Contagem = 1L)\n",
        "\n",
        "# Individual: \"normal\" (por atleta se houver; senão por evento)\n",
        "med_indiv <- if (!is.null(athlete_col)) {\n",
        "  df_tag %>%\n",
        "    filter(!is_team) %>%\n",
        "    distinct(Games, Year, Event, .data[[athlete_col]]) %>%  # conta por atleta\n",
        "    mutate(Tipo = \"Individual\", Contagem = 1L)\n",
        "} else {\n",
        "  df_tag %>%\n",
        "    filter(!is_team) %>%\n",
        "    distinct(Games, Year, Event) %>%       # fallback: 1 por evento\n",
        "    mutate(Tipo = \"Individual\", Contagem = 1L)\n",
        "}\n",
        "\n",
        "# Série total por edição\n",
        "serie_br <- bind_rows(med_team, med_indiv) %>%\n",
        "  count(Year, Games, name = \"TotalMedalhas\") %>%\n",
        "  arrange(Year)\n",
        "\n",
        "print(serie_br, n = Inf)\n",
        "\n",
        "# (opcional) Decomposição por tipo (Equipe vs Individual) por edição\n",
        "serie_br_tipo <- bind_rows(med_team, med_indiv) %>%\n",
        "  count(Year, Games, Tipo, name = \"Medalhas\") %>%\n",
        "  arrange(Year, desc(Tipo))\n",
        "\n",
        "head(serie_br_tipo, 10)"
      ],
      "metadata": {
        "colab": {
          "base_uri": "https://localhost:8080/",
          "height": 846
        },
        "id": "3Ip1FJbpj1UF",
        "outputId": "10fc3edf-2f12-4341-a054-b7d758f0d978"
      },
      "execution_count": 14,
      "outputs": [
        {
          "output_type": "stream",
          "name": "stdout",
          "text": [
            "\u001b[90m# A tibble: 22 × 3\u001b[39m\n",
            "    Year Games                      TotalMedalhas\n",
            "   \u001b[3m\u001b[90m<int>\u001b[39m\u001b[23m \u001b[3m\u001b[90m<chr>\u001b[39m\u001b[23m                              \u001b[3m\u001b[90m<int>\u001b[39m\u001b[23m\n",
            "\u001b[90m 1\u001b[39m  \u001b[4m1\u001b[24m920 1920 Summer Olympics                   3\n",
            "\u001b[90m 2\u001b[39m  \u001b[4m1\u001b[24m948 1948 Summer Olympics                   1\n",
            "\u001b[90m 3\u001b[39m  \u001b[4m1\u001b[24m952 1952 Summer Olympics                   3\n",
            "\u001b[90m 4\u001b[39m  \u001b[4m1\u001b[24m956 1956 Summer Olympics                   1\n",
            "\u001b[90m 5\u001b[39m  \u001b[4m1\u001b[24m960 1960 Summer Olympics                   2\n",
            "\u001b[90m 6\u001b[39m  \u001b[4m1\u001b[24m964 1964 Summer Olympics                   1\n",
            "\u001b[90m 7\u001b[39m  \u001b[4m1\u001b[24m968 1968 Summer Olympics                   3\n",
            "\u001b[90m 8\u001b[39m  \u001b[4m1\u001b[24m972 1972 Summer Olympics                   2\n",
            "\u001b[90m 9\u001b[39m  \u001b[4m1\u001b[24m976 1976 Summer Olympics                   2\n",
            "\u001b[90m10\u001b[39m  \u001b[4m1\u001b[24m980 1980 Summer Olympics                   4\n",
            "\u001b[90m11\u001b[39m  \u001b[4m1\u001b[24m984 1984 Summer Olympics                   8\n",
            "\u001b[90m12\u001b[39m  \u001b[4m1\u001b[24m988 1988 Summer Olympics                   6\n",
            "\u001b[90m13\u001b[39m  \u001b[4m1\u001b[24m992 1992 Summer Olympics                   3\n",
            "\u001b[90m14\u001b[39m  \u001b[4m1\u001b[24m996 1996 Summer Olympics                  14\n",
            "\u001b[90m15\u001b[39m  \u001b[4m2\u001b[24m000 2000 Summer Olympics                  11\n",
            "\u001b[90m16\u001b[39m  \u001b[4m2\u001b[24m004 2004 Summer Olympics                  10\n",
            "\u001b[90m17\u001b[39m  \u001b[4m2\u001b[24m008 2008 Summer Olympics                  16\n",
            "\u001b[90m18\u001b[39m  \u001b[4m2\u001b[24m010 2010 Summer Youth Olympics             3\n",
            "\u001b[90m19\u001b[39m  \u001b[4m2\u001b[24m012 2012 Summer Olympics                  16\n",
            "\u001b[90m20\u001b[39m  \u001b[4m2\u001b[24m014 2014 Summer Youth Olympics             8\n",
            "\u001b[90m21\u001b[39m  \u001b[4m2\u001b[24m016 2016 Summer Olympics                  16\n",
            "\u001b[90m22\u001b[39m  \u001b[4m2\u001b[24m020 2020 Summer Olympics                  21\n"
          ]
        },
        {
          "output_type": "display_data",
          "data": {
            "text/html": [
              "<table class=\"dataframe\">\n",
              "<caption>A tibble: 10 × 4</caption>\n",
              "<thead>\n",
              "\t<tr><th scope=col>Year</th><th scope=col>Games</th><th scope=col>Tipo</th><th scope=col>Medalhas</th></tr>\n",
              "\t<tr><th scope=col>&lt;int&gt;</th><th scope=col>&lt;chr&gt;</th><th scope=col>&lt;chr&gt;</th><th scope=col>&lt;int&gt;</th></tr>\n",
              "</thead>\n",
              "<tbody>\n",
              "\t<tr><td>1920</td><td>1920 Summer Olympics</td><td>Individual</td><td>2</td></tr>\n",
              "\t<tr><td>1920</td><td>1920 Summer Olympics</td><td>Equipe    </td><td>1</td></tr>\n",
              "\t<tr><td>1948</td><td>1948 Summer Olympics</td><td>Equipe    </td><td>1</td></tr>\n",
              "\t<tr><td>1952</td><td>1952 Summer Olympics</td><td>Individual</td><td>3</td></tr>\n",
              "\t<tr><td>1956</td><td>1956 Summer Olympics</td><td>Individual</td><td>1</td></tr>\n",
              "\t<tr><td>1960</td><td>1960 Summer Olympics</td><td>Individual</td><td>1</td></tr>\n",
              "\t<tr><td>1960</td><td>1960 Summer Olympics</td><td>Equipe    </td><td>1</td></tr>\n",
              "\t<tr><td>1964</td><td>1964 Summer Olympics</td><td>Equipe    </td><td>1</td></tr>\n",
              "\t<tr><td>1968</td><td>1968 Summer Olympics</td><td>Individual</td><td>1</td></tr>\n",
              "\t<tr><td>1968</td><td>1968 Summer Olympics</td><td>Equipe    </td><td>2</td></tr>\n",
              "</tbody>\n",
              "</table>\n"
            ],
            "text/markdown": "\nA tibble: 10 × 4\n\n| Year &lt;int&gt; | Games &lt;chr&gt; | Tipo &lt;chr&gt; | Medalhas &lt;int&gt; |\n|---|---|---|---|\n| 1920 | 1920 Summer Olympics | Individual | 2 |\n| 1920 | 1920 Summer Olympics | Equipe     | 1 |\n| 1948 | 1948 Summer Olympics | Equipe     | 1 |\n| 1952 | 1952 Summer Olympics | Individual | 3 |\n| 1956 | 1956 Summer Olympics | Individual | 1 |\n| 1960 | 1960 Summer Olympics | Individual | 1 |\n| 1960 | 1960 Summer Olympics | Equipe     | 1 |\n| 1964 | 1964 Summer Olympics | Equipe     | 1 |\n| 1968 | 1968 Summer Olympics | Individual | 1 |\n| 1968 | 1968 Summer Olympics | Equipe     | 2 |\n\n",
            "text/latex": "A tibble: 10 × 4\n\\begin{tabular}{llll}\n Year & Games & Tipo & Medalhas\\\\\n <int> & <chr> & <chr> & <int>\\\\\n\\hline\n\t 1920 & 1920 Summer Olympics & Individual & 2\\\\\n\t 1920 & 1920 Summer Olympics & Equipe     & 1\\\\\n\t 1948 & 1948 Summer Olympics & Equipe     & 1\\\\\n\t 1952 & 1952 Summer Olympics & Individual & 3\\\\\n\t 1956 & 1956 Summer Olympics & Individual & 1\\\\\n\t 1960 & 1960 Summer Olympics & Individual & 1\\\\\n\t 1960 & 1960 Summer Olympics & Equipe     & 1\\\\\n\t 1964 & 1964 Summer Olympics & Equipe     & 1\\\\\n\t 1968 & 1968 Summer Olympics & Individual & 1\\\\\n\t 1968 & 1968 Summer Olympics & Equipe     & 2\\\\\n\\end{tabular}\n",
            "text/plain": [
              "   Year Games                Tipo       Medalhas\n",
              "1  1920 1920 Summer Olympics Individual 2       \n",
              "2  1920 1920 Summer Olympics Equipe     1       \n",
              "3  1948 1948 Summer Olympics Equipe     1       \n",
              "4  1952 1952 Summer Olympics Individual 3       \n",
              "5  1956 1956 Summer Olympics Individual 1       \n",
              "6  1960 1960 Summer Olympics Individual 1       \n",
              "7  1960 1960 Summer Olympics Equipe     1       \n",
              "8  1964 1964 Summer Olympics Equipe     1       \n",
              "9  1968 1968 Summer Olympics Individual 1       \n",
              "10 1968 1968 Summer Olympics Equipe     2       "
            ]
          },
          "metadata": {}
        }
      ]
    },
    {
      "cell_type": "code",
      "source": [
        "# ==== BLOCO 3: edição recordista + tabela Modalidade × Tipo × Medalhas ====\n",
        "library(dplyr)\n",
        "\n",
        "# 3.1) Seleciona a edição com mais medalhas (se houver empate, pega a mais recente)\n",
        "top_ed <- serie_br %>%\n",
        "  slice_max(TotalMedalhas, n = 1, with_ties = TRUE) %>%\n",
        "  arrange(desc(Year)) %>%\n",
        "  slice(1)\n",
        "\n",
        "cat(\"Edição recordista:\", top_ed$Games, \"— Ano:\", top_ed$Year,\n",
        "    \"— Total de medalhas:\", top_ed$TotalMedalhas, \"\\n\")\n",
        "\n",
        "# 3.2) Tabela por Modalidade — Equipe (1 por evento)\n",
        "tab_team <- df_tag %>%\n",
        "  filter(is_team, Games == top_ed$Games[1]) %>%\n",
        "  distinct(Games, Year, Event, Modalidade = .data[[sport_col]]) %>%\n",
        "  count(Modalidade, name = \"Medalhas\") %>%\n",
        "  mutate(Tipo = \"Equipe\")\n",
        "\n",
        "# 3.3) Tabela por Modalidade — Individual (normal: por atleta se houver nome; senão por evento)\n",
        "tab_indiv <- if (!is.null(athlete_col)) {\n",
        "  df_tag %>%\n",
        "    filter(!is_team, Games == top_ed$Games[1]) %>%\n",
        "    distinct(Games, Year, Event, Modalidade = .data[[sport_col]], .data[[athlete_col]]) %>%\n",
        "    count(Modalidade, name = \"Medalhas\") %>%\n",
        "    mutate(Tipo = \"Individual\")\n",
        "} else {\n",
        "  df_tag %>%\n",
        "    filter(!is_team, Games == top_ed$Games[1]) %>%\n",
        "    distinct(Games, Year, Event, Modalidade = .data[[sport_col]]) %>%\n",
        "    count(Modalidade, name = \"Medalhas\") %>%\n",
        "    mutate(Tipo = \"Individual\")\n",
        "}\n",
        "\n",
        "# 3.4) Consolida e ordena\n",
        "tabela_modalidade <- bind_rows(tab_team, tab_indiv) %>%\n",
        "  arrange(desc(Medalhas), Modalidade, Tipo)\n",
        "\n",
        "print(tabela_modalidade, n = Inf)"
      ],
      "metadata": {
        "colab": {
          "base_uri": "https://localhost:8080/"
        },
        "id": "rZwqYKSrkF6a",
        "outputId": "31a811b7-f1b5-4580-eed4-45740206002b"
      },
      "execution_count": 15,
      "outputs": [
        {
          "output_type": "stream",
          "name": "stdout",
          "text": [
            "Edição recordista: 2020 Summer Olympics — Ano: 2020 — Total de medalhas: 21 \n",
            "\u001b[90m# A tibble: 13 × 3\u001b[39m\n",
            "   Modalidade                       Medalhas Tipo      \n",
            "   \u001b[3m\u001b[90m<chr>\u001b[39m\u001b[23m                               \u001b[3m\u001b[90m<int>\u001b[39m\u001b[23m \u001b[3m\u001b[90m<chr>\u001b[39m\u001b[23m     \n",
            "\u001b[90m 1\u001b[39m Boxing                                  3 Equipe    \n",
            "\u001b[90m 2\u001b[39m Skateboarding (Roller Sports)           3 Individual\n",
            "\u001b[90m 3\u001b[39m Artistic Gymnastics (Gymnastics)        2 Individual\n",
            "\u001b[90m 4\u001b[39m Athletics                               2 Individual\n",
            "\u001b[90m 5\u001b[39m Judo                                    2 Equipe    \n",
            "\u001b[90m 6\u001b[39m Swimming (Aquatics)                     2 Individual\n",
            "\u001b[90m 7\u001b[39m Canoe Sprint (Canoeing)                 1 Individual\n",
            "\u001b[90m 8\u001b[39m Football (Football)                     1 Equipe    \n",
            "\u001b[90m 9\u001b[39m Marathon Swimming (Aquatics)            1 Individual\n",
            "\u001b[90m10\u001b[39m Sailing                                 1 Individual\n",
            "\u001b[90m11\u001b[39m Surfing                                 1 Individual\n",
            "\u001b[90m12\u001b[39m Tennis                                  1 Equipe    \n",
            "\u001b[90m13\u001b[39m Volleyball (Volleyball)                 1 Equipe    \n"
          ]
        }
      ]
    },
    {
      "cell_type": "code",
      "source": [
        "# ==== BLOCO 4: gráfico Modalidade × Tipo na edição recordista ======\n",
        "library(dplyr)\n",
        "library(ggplot2)\n",
        "\n",
        "# Reordena Modalidade pelo total (soma das barras)\n",
        "plot_df <- tabela_modalidade %>%\n",
        "  mutate(Modalidade = reorder(Modalidade, Medalhas, FUN = sum))\n",
        "\n",
        "ggplot(plot_df, aes(x = Modalidade, y = Medalhas, fill = Tipo)) +\n",
        "  geom_col() +\n",
        "  geom_text(\n",
        "    aes(label = Medalhas),\n",
        "    position = position_stack(vjust = 0.5),\n",
        "    size = 3\n",
        "  ) +\n",
        "  coord_flip() +\n",
        "  labs(\n",
        "    title = paste0(\"Brasil — \", top_ed$Games[1], \" (\", top_ed$Year[1], \")\"),\n",
        "    subtitle = \"Modalidade × Tipo (Equipe = 1 por evento; Individual = normal)\",\n",
        "    x = \"Modalidade\", y = \"Medalhas\"\n",
        "  ) +\n",
        "  theme_minimal(base_size = 12) +\n",
        "  theme(legend.position = \"top\")"
      ],
      "metadata": {
        "colab": {
          "base_uri": "https://localhost:8080/",
          "height": 437
        },
        "id": "UXLshsLxkYCq",
        "outputId": "209bb52e-a335-4b15-803d-74284482a650"
      },
      "execution_count": 16,
      "outputs": [
        {
          "output_type": "display_data",
          "data": {
            "text/plain": [
              "plot without title"
            ],
            "image/png": "[encoded data removed]"
          },
          "metadata": {
            "image/png": {
              "width": 420,
              "height": 420
            }
          }
        }
      ]
    },
    {
      "cell_type": "code",
      "source": [
        "library(dplyr)\n",
        "\n",
        "# Recalcula impacto por Tipo\n",
        "impacto_tipo <- tabela_modalidade %>%\n",
        "  group_by(Tipo) %>%\n",
        "  summarise(Medalhas = sum(Medalhas), .groups = \"drop\") %>%\n",
        "  mutate(Share = Medalhas / sum(Medalhas))\n",
        "\n",
        "# Cria a frase\n",
        "mais_impacto <- impacto_tipo %>%\n",
        "  arrange(desc(Medalhas)) %>%\n",
        "  slice(1)\n",
        "\n",
        "frase <- paste0(\n",
        "  \"Na edição recordista, o maior impacto veio de **\", mais_impacto$Tipo,\n",
        "  \"**, com \", mais_impacto$Medalhas, \" medalhas (\",\n",
        "  sprintf('%.1f%%', 100 * mais_impacto$Share), \" do total).\"\n",
        ")\n",
        "\n",
        "frase\n",
        "\n"
      ],
      "metadata": {
        "colab": {
          "base_uri": "https://localhost:8080/",
          "height": 34
        },
        "id": "awzCG0YolLbh",
        "outputId": "f43419db-e255-468b-d396-fb187f34729d"
      },
      "execution_count": 19,
      "outputs": [
        {
          "output_type": "display_data",
          "data": {
            "text/html": [
              "'Na edição recordista, o maior impacto veio de **Individual**, com 13 medalhas (61.9% do total).'"
            ],
            "text/markdown": "'Na edição recordista, o maior impacto veio de **Individual**, com 13 medalhas (61.9% do total).'",
            "text/latex": "'Na edição recordista, o maior impacto veio de **Individual**, com 13 medalhas (61.9\\% do total).'",
            "text/plain": [
              "[1] \"Na edição recordista, o maior impacto veio de **Individual**, com 13 medalhas (61.9% do total).\""
            ]
          },
          "metadata": {}
        }
      ]
    }
  ]
}